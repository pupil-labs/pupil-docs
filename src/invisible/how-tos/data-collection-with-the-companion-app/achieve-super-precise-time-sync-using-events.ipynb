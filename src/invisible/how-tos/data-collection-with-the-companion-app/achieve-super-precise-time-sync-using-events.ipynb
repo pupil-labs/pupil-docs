{
 "cells": [
  {
   "cell_type": "markdown",
   "metadata": {},
   "source": [
    "---\n",
    "description: How-To guide on achieving super-precise time sync using the real-time API.\n",
    "isNotebook: true\n",
    "---\n",
    "\n",
    "\n",
    "# Achieve super-precise Time Sync using Events\n",
    "For many applications it is critical to accurately synchronize your Pupil Invisible device with another external clock. That could be another sensor you use in parallel or a computer you use for stimulus presentation. \n",
    "\n",
    "Pupil Invisible is providing UTC timestamps for all the data it generates, which in principle makes it easy to sync the data to anything. All digital clocks suffer from drift however, meaning that they are running slightly too fast or slow at all times. Over time this error accumulates and can lead to significant errors.\n",
    "\n",
    "Therefore digital clocks regularly readjust themselves by syncing to a master clock over the internet. This limits the accumulated error to not much more than a second in the worst case, which is sufficient for most consumer applications. When measuring physiological responses, a second of error is however often not acceptable.\n",
    "\n",
    "\n",
    "### Force Syncing to the Master Clock on Demand\n",
    "The easiest way to achieve more accurate time synchronization is to force a sync-up to the master clock of all devices before starting data collection. The drift error takes a while to accumulate and is negligible for at least several hours after a sync-up. Directly after sync-up, the synchronization error should be `<20 ms`. After 24 hours it should still be `<150 ms`.\n",
    "\n",
    "A sync-up can usually be forced by toggling automatic determination of the current time off and back on in the operating systems settings. In Android for example the `Date & Time` settings in the `System` settings have a toggle called `use network-provided time`. Whenever this toggle is turned on, the system is syncing up.\n",
    "\n",
    "Depending on the operating system, devices use different master clock servers to sync with. Ideally, all devices would sync to the exact same master clock to avoid small errors between different masters. Some operating systems allow to specify which server to use. Android is using the following ones depending on the region:\n",
    "\n",
    "```\n",
    "Asia\n",
    "NTP_SERVER=asia.pool.ntp.org\n",
    "\n",
    "Europe\n",
    "NTP_SERVER=europe.pool.ntp.org\n",
    "\n",
    "North America\n",
    "NTP_SERVER=north-america.pool.ntp.org\n",
    "```\n",
    "\n",
    "### Improving Synchronization further\n",
    "While an error of `<20 ms` is sufficient for most applications, some require even better synchronization. To improve further, you can estimate the offset between the clock used by Pupil Invisible and the clock of the external device.\n",
    "\n",
    "This can be done using events and the real-time API. When sending an event to the Companion app via the API, the event will be saved with a timestamp generated on the phone. This timestamp will be generated when the event is received on the phone. When sending the event from the external device, you can also manually save a timestamp there and compare the two.\n",
    "\n",
    "You do however have to factor in the travel time the event has through the local network, which will also influence the timestamps. The following diagram visualizes the message flow.\n",
    "\n",
    "<div style=\"display:flex;justify-content:center;\" class=\"pb-4\">\n",
    "  <v-img\n",
    "    :src=\"require('../../../media/invisible/how-tos/time-synchronization-with-events.jpg')\"\n",
    "    max-width=60%\n",
    "  >\n",
    "  </v-img>\n",
    "</div>\n",
    "\n",
    "On a wifi the travel time of messages can vary a lot ranging from `~3-400 ms`. To make the estimate you can assume that the travel time from the external device to the phone is roughly equal to the opposite direction, i.e. from the phone to the external device. This implies that the event timestamp `ts_E` should coincide with the mean value of `ts_A` and `ts_B`, and the difference between the two is an estimate of the synchronization error.\n",
    "\n",
    "To compensate for fluctuations in the travel time, take the median of multiple measurements. The median is preferable over the mean, as there might be significant outliers.\n",
    "\n",
    "While running this test, **make sure the screen of the phone is turned on**! While the screen is turned off Android is significantly decreasing the speed of network "
   ]
  },
  {
   "cell_type": "code",
   "execution_count": 7,
   "metadata": {},
   "outputs": [
    {
     "name": "stderr",
     "output_type": "stream",
     "text": [
      "Exception in thread Device(ip=192.168.1.166, port=8080, dns=pi-1.local.) auto-update thread:\n",
      "Traceback (most recent call last):\n",
      "  File \"C:\\Users\\Admin\\Anaconda3\\envs\\sci\\lib\\threading.py\", line 932, in _bootstrap_inner\n",
      "    self.run()\n",
      "  File \"C:\\Users\\Admin\\Anaconda3\\envs\\sci\\lib\\threading.py\", line 870, in run\n",
      "    self._target(*self._args, **self._kwargs)\n",
      "  File \"C:\\Users\\Admin\\Anaconda3\\envs\\sci\\lib\\site-packages\\pupil_labs\\realtime_api\\simple.py\", line 421, in _auto_update\n",
      "    return asyncio.run(_auto_update_until_closed())\n",
      "  File \"C:\\Users\\Admin\\Anaconda3\\envs\\sci\\lib\\site-packages\\nest_asyncio.py\", line 38, in run\n",
      "    return loop.run_until_complete(task)\n",
      "  File \"C:\\Users\\Admin\\Anaconda3\\envs\\sci\\lib\\site-packages\\nest_asyncio.py\", line 81, in run_until_complete\n",
      "    return f.result()\n",
      "  File \"C:\\Users\\Admin\\Anaconda3\\envs\\sci\\lib\\asyncio\\futures.py\", line 178, in result\n",
      "    raise self._exception\n",
      "  File \"C:\\Users\\Admin\\Anaconda3\\envs\\sci\\lib\\asyncio\\tasks.py\", line 280, in __step\n",
      "    result = coro.send(None)\n",
      "  File \"C:\\Users\\Admin\\Anaconda3\\envs\\sci\\lib\\site-packages\\pupil_labs\\realtime_api\\simple.py\", line 418, in _auto_update_until_closed\n",
      "    await notifier.receive_updates_stop()\n",
      "  File \"C:\\Users\\Admin\\Anaconda3\\envs\\sci\\lib\\site-packages\\pupil_labs\\realtime_api\\device.py\", line 171, in receive_updates_stop\n",
      "    await self._auto_update_task\n",
      "  File \"C:\\Users\\Admin\\Anaconda3\\envs\\sci\\lib\\asyncio\\futures.py\", line 263, in __await__\n",
      "    return self.result()  # May raise too.\n",
      "  File \"C:\\Users\\Admin\\Anaconda3\\envs\\sci\\lib\\asyncio\\futures.py\", line 178, in result\n",
      "    raise self._exception\n",
      "  File \"C:\\Users\\Admin\\Anaconda3\\envs\\sci\\lib\\asyncio\\tasks.py\", line 280, in __step\n",
      "    result = coro.send(None)\n",
      "  File \"C:\\Users\\Admin\\Anaconda3\\envs\\sci\\lib\\site-packages\\pupil_labs\\realtime_api\\device.py\", line 188, in _auto_update\n",
      "    async for changed in self._device.status_updates():\n",
      "  File \"C:\\Users\\Admin\\Anaconda3\\envs\\sci\\lib\\site-packages\\pupil_labs\\realtime_api\\device.py\", line 59, in status_updates\n",
      "    component = parse_component(message_json)\n",
      "  File \"C:\\Users\\Admin\\Anaconda3\\envs\\sci\\lib\\site-packages\\pupil_labs\\realtime_api\\models.py\", line 137, in parse_component\n",
      "    model_class = _model_class_map[model_name]\n",
      "KeyError: 'NetworkDevice'\n",
      "Exception ignored in: <async_generator object Connect.__aiter__ at 0x000002E5F65F5EE0>\n",
      "Traceback (most recent call last):\n",
      "  File \"C:\\Users\\Admin\\Anaconda3\\envs\\sci\\lib\\site-packages\\pupil_labs\\realtime_api\\device.py\", line 66, in status_updates\n",
      "    break\n",
      "RuntimeError: async generator ignored GeneratorExit\n"
     ]
    },
    {
     "name": "stdout",
     "output_type": "stream",
     "text": [
      "Clock offset estimate: 840.44 ms\n"
     ]
    }
   ],
   "source": [
    "# The 2 lines below are only needed to run this code in a Jupyter notebook\n",
    "import nest_asyncio\n",
    "nest_asyncio.apply()\n",
    "\n",
    "import time\n",
    "import numpy as np\n",
    "\n",
    "from pupil_labs.realtime_api.simple import discover_one_device\n",
    "\n",
    "\n",
    "device = discover_one_device(max_search_duration_seconds=10)\n",
    "\n",
    "deltas = []\n",
    "for i in range(50):\n",
    "    ts_A = time.time_ns()\n",
    "    e = device.send_event(\"test\")\n",
    "    ts_E = e.timestamp\n",
    "    ts_B = time.time_ns()\n",
    "\n",
    "    ts_AB = (ts_A + ts_B) / 2\n",
    "\n",
    "    d = ts_AB - ts_E\n",
    "    deltas.append(d)\n",
    "\n",
    "offset = np.median(deltas)\n",
    "print(f\"Clock offset estimate: {offset / 1e6:.2f} ms\")"
   ]
  },
  {
   "cell_type": "code",
   "execution_count": 16,
   "metadata": {},
   "outputs": [
    {
     "name": "stderr",
     "output_type": "stream",
     "text": [
      "Exception in thread Device(ip=192.168.1.166, port=8080, dns=pi-1.local.) auto-update thread:\n",
      "Traceback (most recent call last):\n",
      "  File \"C:\\Users\\Admin\\Anaconda3\\envs\\sci\\lib\\threading.py\", line 932, in _bootstrap_inner\n",
      "    self.run()\n",
      "  File \"C:\\Users\\Admin\\Anaconda3\\envs\\sci\\lib\\threading.py\", line 870, in run\n",
      "    self._target(*self._args, **self._kwargs)\n",
      "  File \"C:\\Users\\Admin\\Anaconda3\\envs\\sci\\lib\\site-packages\\pupil_labs\\realtime_api\\simple.py\", line 421, in _auto_update\n",
      "    return asyncio.run(_auto_update_until_closed())\n",
      "  File \"C:\\Users\\Admin\\Anaconda3\\envs\\sci\\lib\\site-packages\\nest_asyncio.py\", line 38, in run\n",
      "    return loop.run_until_complete(task)\n",
      "  File \"C:\\Users\\Admin\\Anaconda3\\envs\\sci\\lib\\site-packages\\nest_asyncio.py\", line 81, in run_until_complete\n",
      "    return f.result()\n",
      "  File \"C:\\Users\\Admin\\Anaconda3\\envs\\sci\\lib\\asyncio\\futures.py\", line 178, in result\n",
      "    raise self._exception\n",
      "  File \"C:\\Users\\Admin\\Anaconda3\\envs\\sci\\lib\\asyncio\\tasks.py\", line 280, in __step\n",
      "    result = coro.send(None)\n",
      "  File \"C:\\Users\\Admin\\Anaconda3\\envs\\sci\\lib\\site-packages\\pupil_labs\\realtime_api\\simple.py\", line 418, in _auto_update_until_closed\n",
      "    await notifier.receive_updates_stop()\n",
      "  File \"C:\\Users\\Admin\\Anaconda3\\envs\\sci\\lib\\site-packages\\pupil_labs\\realtime_api\\device.py\", line 171, in receive_updates_stop\n",
      "    await self._auto_update_task\n",
      "  File \"C:\\Users\\Admin\\Anaconda3\\envs\\sci\\lib\\asyncio\\futures.py\", line 263, in __await__\n",
      "    return self.result()  # May raise too.\n",
      "  File \"C:\\Users\\Admin\\Anaconda3\\envs\\sci\\lib\\asyncio\\futures.py\", line 178, in result\n",
      "    raise self._exception\n",
      "  File \"C:\\Users\\Admin\\Anaconda3\\envs\\sci\\lib\\asyncio\\tasks.py\", line 280, in __step\n",
      "    result = coro.send(None)\n",
      "  File \"C:\\Users\\Admin\\Anaconda3\\envs\\sci\\lib\\site-packages\\pupil_labs\\realtime_api\\device.py\", line 188, in _auto_update\n",
      "    async for changed in self._device.status_updates():\n",
      "  File \"C:\\Users\\Admin\\Anaconda3\\envs\\sci\\lib\\site-packages\\pupil_labs\\realtime_api\\device.py\", line 59, in status_updates\n",
      "    component = parse_component(message_json)\n",
      "  File \"C:\\Users\\Admin\\Anaconda3\\envs\\sci\\lib\\site-packages\\pupil_labs\\realtime_api\\models.py\", line 137, in parse_component\n",
      "    model_class = _model_class_map[model_name]\n",
      "KeyError: 'NetworkDevice'\n",
      "Exception in thread Device(ip=192.168.1.169, port=8080, dns=pi.local.) auto-update thread:\n",
      "Traceback (most recent call last):\n",
      "  File \"C:\\Users\\Admin\\Anaconda3\\envs\\sci\\lib\\threading.py\", line 932, in _bootstrap_inner\n",
      "    self.run()\n",
      "  File \"C:\\Users\\Admin\\Anaconda3\\envs\\sci\\lib\\threading.py\", line 870, in run\n",
      "    self._target(*self._args, **self._kwargs)\n",
      "  File \"C:\\Users\\Admin\\Anaconda3\\envs\\sci\\lib\\site-packages\\pupil_labs\\realtime_api\\simple.py\", line 421, in _auto_update\n",
      "    return asyncio.run(_auto_update_until_closed())\n",
      "  File \"C:\\Users\\Admin\\Anaconda3\\envs\\sci\\lib\\site-packages\\nest_asyncio.py\", line 38, in run\n",
      "    return loop.run_until_complete(task)\n",
      "  File \"C:\\Users\\Admin\\Anaconda3\\envs\\sci\\lib\\site-packages\\nest_asyncio.py\", line 81, in run_until_complete\n",
      "    return f.result()\n",
      "  File \"C:\\Users\\Admin\\Anaconda3\\envs\\sci\\lib\\asyncio\\futures.py\", line 178, in result\n",
      "    raise self._exception\n",
      "  File \"C:\\Users\\Admin\\Anaconda3\\envs\\sci\\lib\\asyncio\\tasks.py\", line 280, in __step\n",
      "    result = coro.send(None)\n",
      "  File \"C:\\Users\\Admin\\Anaconda3\\envs\\sci\\lib\\site-packages\\pupil_labs\\realtime_api\\simple.py\", line 418, in _auto_update_until_closed\n",
      "    await notifier.receive_updates_stop()\n",
      "  File \"C:\\Users\\Admin\\Anaconda3\\envs\\sci\\lib\\site-packages\\pupil_labs\\realtime_api\\device.py\", line 171, in receive_updates_stop\n",
      "    await self._auto_update_task\n",
      "  File \"C:\\Users\\Admin\\Anaconda3\\envs\\sci\\lib\\asyncio\\futures.py\", line 263, in __await__\n",
      "    return self.result()  # May raise too.\n",
      "  File \"C:\\Users\\Admin\\Anaconda3\\envs\\sci\\lib\\asyncio\\futures.py\", line 178, in result\n",
      "    raise self._exception\n",
      "  File \"C:\\Users\\Admin\\Anaconda3\\envs\\sci\\lib\\asyncio\\tasks.py\", line 280, in __step\n",
      "    result = coro.send(None)\n",
      "  File \"C:\\Users\\Admin\\Anaconda3\\envs\\sci\\lib\\site-packages\\pupil_labs\\realtime_api\\device.py\", line 188, in _auto_update\n",
      "    async for changed in self._device.status_updates():\n",
      "  File \"C:\\Users\\Admin\\Anaconda3\\envs\\sci\\lib\\site-packages\\pupil_labs\\realtime_api\\device.py\", line 59, in status_updates\n",
      "    component = parse_component(message_json)\n",
      "  File \"C:\\Users\\Admin\\Anaconda3\\envs\\sci\\lib\\site-packages\\pupil_labs\\realtime_api\\models.py\", line 137, in parse_component\n",
      "    model_class = _model_class_map[model_name]\n",
      "KeyError: 'NetworkDevice'\n",
      "Exception ignored in: <async_generator object Connect.__aiter__ at 0x000002E5F672EF70>\n",
      "Traceback (most recent call last):\n",
      "  File \"C:\\Users\\Admin\\Anaconda3\\envs\\sci\\lib\\site-packages\\pupil_labs\\realtime_api\\device.py\", line 66, in status_updates\n",
      "    break\n",
      "RuntimeError: async generator ignored GeneratorExit\n"
     ]
    },
    {
     "name": "stdout",
     "output_type": "stream",
     "text": [
      "Clock offset estimate: 926.60 ms\n"
     ]
    }
   ],
   "source": [
    "# The 2 lines below are only needed to run this code in a Jupyter notebook\n",
    "import nest_asyncio\n",
    "nest_asyncio.apply()\n",
    "\n",
    "import time\n",
    "import numpy as np\n",
    "\n",
    "from pupil_labs.realtime_api.simple import discover_one_device, discover_devices\n",
    "\n",
    "\n",
    "devices = discover_devices(search_duration_seconds=10)\n",
    "\n",
    "offsets = []\n",
    "for device in devices:\n",
    "    deltas = []\n",
    "    for i in range(100):\n",
    "        ts_A = time.time_ns()\n",
    "        e = device.send_event(\"test\")\n",
    "        ts_E = e.timestamp\n",
    "        ts_B = time.time_ns()\n",
    "\n",
    "        ts_AB = (ts_A + ts_B) / 2\n",
    "\n",
    "        d = ts_AB - ts_E\n",
    "        deltas.append(d)\n",
    "\n",
    "    offset = np.median(deltas)\n",
    "    print(f\"Clock offset estimate: {offset / 1e6:.2f} ms\")\n",
    "\n",
    "    offsets.append((offset, device.serial_number_glasses))"
   ]
  },
  {
   "cell_type": "code",
   "execution_count": 17,
   "metadata": {},
   "outputs": [
    {
     "data": {
      "text/plain": [
       "[(926604800.0, 'a68l5')]"
      ]
     },
     "execution_count": 17,
     "metadata": {},
     "output_type": "execute_result"
    }
   ],
   "source": [
    "offsets"
   ]
  },
  {
   "cell_type": "code",
   "execution_count": 15,
   "metadata": {},
   "outputs": [
    {
     "data": {
      "text/plain": [
       "-20.619647999999984"
      ]
     },
     "execution_count": 15,
     "metadata": {},
     "output_type": "execute_result"
    }
   ],
   "source": [
    "offsets[0][0] / 1e6 - offsets[1][0] / 1e6"
   ]
  },
  {
   "cell_type": "markdown",
   "metadata": {},
   "source": [
    "The estimation of this offset should be accurate up to `2-3 ms`. "
   ]
  }
 ],
 "metadata": {
  "interpreter": {
   "hash": "b9049ce7088865880aaffb2cae71e78a9f3c10fb98aa104b53c79f61dae30873"
  },
  "kernelspec": {
   "display_name": "Python 3 (ipykernel)",
   "language": "python",
   "name": "python3"
  },
  "language_info": {
   "codemirror_mode": {
    "name": "ipython",
    "version": 3
   },
   "file_extension": ".py",
   "mimetype": "text/x-python",
   "name": "python",
   "nbconvert_exporter": "python",
   "pygments_lexer": "ipython3",
   "version": "3.8.12"
  }
 },
 "nbformat": 4,
 "nbformat_minor": 4
}
